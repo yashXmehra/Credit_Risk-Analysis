{
 "cells": [
  {
   "cell_type": "code",
   "execution_count": 3,
   "metadata": {},
   "outputs": [
    {
     "data": {
      "text/html": [
       "<div>\n",
       "<style scoped>\n",
       "    .dataframe tbody tr th:only-of-type {\n",
       "        vertical-align: middle;\n",
       "    }\n",
       "\n",
       "    .dataframe tbody tr th {\n",
       "        vertical-align: top;\n",
       "    }\n",
       "\n",
       "    .dataframe thead th {\n",
       "        text-align: right;\n",
       "    }\n",
       "</style>\n",
       "<table border=\"1\" class=\"dataframe\">\n",
       "  <thead>\n",
       "    <tr style=\"text-align: right;\">\n",
       "      <th></th>\n",
       "      <th>Age</th>\n",
       "      <th>Income</th>\n",
       "      <th>Home_Ownership</th>\n",
       "      <th>Emp_Length</th>\n",
       "      <th>Purpose</th>\n",
       "      <th>Loan_Amount</th>\n",
       "      <th>Default</th>\n",
       "    </tr>\n",
       "  </thead>\n",
       "  <tbody>\n",
       "    <tr>\n",
       "      <th>0</th>\n",
       "      <td>22</td>\n",
       "      <td>59000</td>\n",
       "      <td>RENT</td>\n",
       "      <td>123.0</td>\n",
       "      <td>PERSONAL</td>\n",
       "      <td>35000</td>\n",
       "      <td>1</td>\n",
       "    </tr>\n",
       "    <tr>\n",
       "      <th>1</th>\n",
       "      <td>21</td>\n",
       "      <td>9600</td>\n",
       "      <td>OWN</td>\n",
       "      <td>5.0</td>\n",
       "      <td>EDUCATION</td>\n",
       "      <td>1000</td>\n",
       "      <td>0</td>\n",
       "    </tr>\n",
       "    <tr>\n",
       "      <th>2</th>\n",
       "      <td>25</td>\n",
       "      <td>9600</td>\n",
       "      <td>MORTGAGE</td>\n",
       "      <td>1.0</td>\n",
       "      <td>MEDICAL</td>\n",
       "      <td>5500</td>\n",
       "      <td>1</td>\n",
       "    </tr>\n",
       "    <tr>\n",
       "      <th>3</th>\n",
       "      <td>23</td>\n",
       "      <td>65500</td>\n",
       "      <td>RENT</td>\n",
       "      <td>4.0</td>\n",
       "      <td>MEDICAL</td>\n",
       "      <td>35000</td>\n",
       "      <td>1</td>\n",
       "    </tr>\n",
       "    <tr>\n",
       "      <th>4</th>\n",
       "      <td>24</td>\n",
       "      <td>54400</td>\n",
       "      <td>RENT</td>\n",
       "      <td>8.0</td>\n",
       "      <td>MEDICAL</td>\n",
       "      <td>35000</td>\n",
       "      <td>1</td>\n",
       "    </tr>\n",
       "  </tbody>\n",
       "</table>\n",
       "</div>"
      ],
      "text/plain": [
       "   Age  Income Home_Ownership  Emp_Length    Purpose  Loan_Amount  Default\n",
       "0   22   59000           RENT       123.0   PERSONAL        35000        1\n",
       "1   21    9600            OWN         5.0  EDUCATION         1000        0\n",
       "2   25    9600       MORTGAGE         1.0    MEDICAL         5500        1\n",
       "3   23   65500           RENT         4.0    MEDICAL        35000        1\n",
       "4   24   54400           RENT         8.0    MEDICAL        35000        1"
      ]
     },
     "execution_count": 3,
     "metadata": {},
     "output_type": "execute_result"
    }
   ],
   "source": [
    "# noice and outliers doesnt effect median value it does affect \n",
    "#mean value that why we use median\n",
    "#import pandas for all dataframe related operation \n",
    "import pandas as pd\n",
    "# chdir is change direction\n",
    "#directing to working directory from default\n",
    "import os\n",
    "os.chdir('D:/creditrisk')\n",
    "df = pd.read_csv('credit_risk_dataset.csv')\n",
    "df.head()\n",
    "\n"
   ]
  },
  {
   "cell_type": "code",
   "execution_count": 4,
   "metadata": {},
   "outputs": [
    {
     "name": "stdout",
     "output_type": "stream",
     "text": [
      "<class 'pandas.core.frame.DataFrame'>\n",
      "RangeIndex: 32581 entries, 0 to 32580\n",
      "Data columns (total 7 columns):\n",
      " #   Column          Non-Null Count  Dtype  \n",
      "---  ------          --------------  -----  \n",
      " 0   Age             32581 non-null  int64  \n",
      " 1   Income          32581 non-null  int64  \n",
      " 2   Home_Ownership  32581 non-null  object \n",
      " 3   Emp_Length      31686 non-null  float64\n",
      " 4   Purpose         32581 non-null  object \n",
      " 5   Loan_Amount     32581 non-null  int64  \n",
      " 6   Default         32581 non-null  int64  \n",
      "dtypes: float64(1), int64(4), object(2)\n",
      "memory usage: 1.7+ MB\n"
     ]
    }
   ],
   "source": [
    "#see the data types and any missing value ius there or not\n",
    "df.info()"
   ]
  },
  {
   "cell_type": "code",
   "execution_count": 5,
   "metadata": {},
   "outputs": [
    {
     "data": {
      "text/plain": [
       "RENT        16446\n",
       "MORTGAGE    13444\n",
       "OWN          2584\n",
       "OTHER         107\n",
       "Name: Home_Ownership, dtype: int64"
      ]
     },
     "execution_count": 5,
     "metadata": {},
     "output_type": "execute_result"
    }
   ],
   "source": [
    "#print the frequency of each value in Home_Ownership Coloumn\n",
    "df.Home_Ownership.value_counts()"
   ]
  },
  {
   "cell_type": "code",
   "execution_count": 6,
   "metadata": {},
   "outputs": [
    {
     "data": {
      "text/plain": [
       "EDUCATION            6453\n",
       "MEDICAL              6071\n",
       "VENTURE              5719\n",
       "PERSONAL             5521\n",
       "DEBTCONSOLIDATION    5212\n",
       "HOMEIMPROVEMENT      3605\n",
       "Name: Purpose, dtype: int64"
      ]
     },
     "execution_count": 6,
     "metadata": {},
     "output_type": "execute_result"
    }
   ],
   "source": [
    "#print the frequency of each value in Purpose Coloumn to see purpose of loan\n",
    "df.Purpose.value_counts()"
   ]
  },
  {
   "cell_type": "code",
   "execution_count": 7,
   "metadata": {},
   "outputs": [
    {
     "data": {
      "text/html": [
       "<div>\n",
       "<style scoped>\n",
       "    .dataframe tbody tr th:only-of-type {\n",
       "        vertical-align: middle;\n",
       "    }\n",
       "\n",
       "    .dataframe tbody tr th {\n",
       "        vertical-align: top;\n",
       "    }\n",
       "\n",
       "    .dataframe thead th {\n",
       "        text-align: right;\n",
       "    }\n",
       "</style>\n",
       "<table border=\"1\" class=\"dataframe\">\n",
       "  <thead>\n",
       "    <tr style=\"text-align: right;\">\n",
       "      <th></th>\n",
       "      <th>Age</th>\n",
       "      <th>Income</th>\n",
       "      <th>Emp_Length</th>\n",
       "      <th>Loan_Amount</th>\n",
       "      <th>Default</th>\n",
       "      <th>Home_Ownership_MORTGAGE</th>\n",
       "      <th>Home_Ownership_OTHER</th>\n",
       "      <th>Home_Ownership_OWN</th>\n",
       "      <th>Home_Ownership_RENT</th>\n",
       "      <th>Purpose_DEBTCONSOLIDATION</th>\n",
       "      <th>Purpose_EDUCATION</th>\n",
       "      <th>Purpose_HOMEIMPROVEMENT</th>\n",
       "      <th>Purpose_MEDICAL</th>\n",
       "      <th>Purpose_PERSONAL</th>\n",
       "      <th>Purpose_VENTURE</th>\n",
       "    </tr>\n",
       "  </thead>\n",
       "  <tbody>\n",
       "    <tr>\n",
       "      <th>0</th>\n",
       "      <td>22</td>\n",
       "      <td>59000</td>\n",
       "      <td>123.0</td>\n",
       "      <td>35000</td>\n",
       "      <td>1</td>\n",
       "      <td>0</td>\n",
       "      <td>0</td>\n",
       "      <td>0</td>\n",
       "      <td>1</td>\n",
       "      <td>0</td>\n",
       "      <td>0</td>\n",
       "      <td>0</td>\n",
       "      <td>0</td>\n",
       "      <td>1</td>\n",
       "      <td>0</td>\n",
       "    </tr>\n",
       "    <tr>\n",
       "      <th>1</th>\n",
       "      <td>21</td>\n",
       "      <td>9600</td>\n",
       "      <td>5.0</td>\n",
       "      <td>1000</td>\n",
       "      <td>0</td>\n",
       "      <td>0</td>\n",
       "      <td>0</td>\n",
       "      <td>1</td>\n",
       "      <td>0</td>\n",
       "      <td>0</td>\n",
       "      <td>1</td>\n",
       "      <td>0</td>\n",
       "      <td>0</td>\n",
       "      <td>0</td>\n",
       "      <td>0</td>\n",
       "    </tr>\n",
       "    <tr>\n",
       "      <th>2</th>\n",
       "      <td>25</td>\n",
       "      <td>9600</td>\n",
       "      <td>1.0</td>\n",
       "      <td>5500</td>\n",
       "      <td>1</td>\n",
       "      <td>1</td>\n",
       "      <td>0</td>\n",
       "      <td>0</td>\n",
       "      <td>0</td>\n",
       "      <td>0</td>\n",
       "      <td>0</td>\n",
       "      <td>0</td>\n",
       "      <td>1</td>\n",
       "      <td>0</td>\n",
       "      <td>0</td>\n",
       "    </tr>\n",
       "    <tr>\n",
       "      <th>3</th>\n",
       "      <td>23</td>\n",
       "      <td>65500</td>\n",
       "      <td>4.0</td>\n",
       "      <td>35000</td>\n",
       "      <td>1</td>\n",
       "      <td>0</td>\n",
       "      <td>0</td>\n",
       "      <td>0</td>\n",
       "      <td>1</td>\n",
       "      <td>0</td>\n",
       "      <td>0</td>\n",
       "      <td>0</td>\n",
       "      <td>1</td>\n",
       "      <td>0</td>\n",
       "      <td>0</td>\n",
       "    </tr>\n",
       "    <tr>\n",
       "      <th>4</th>\n",
       "      <td>24</td>\n",
       "      <td>54400</td>\n",
       "      <td>8.0</td>\n",
       "      <td>35000</td>\n",
       "      <td>1</td>\n",
       "      <td>0</td>\n",
       "      <td>0</td>\n",
       "      <td>0</td>\n",
       "      <td>1</td>\n",
       "      <td>0</td>\n",
       "      <td>0</td>\n",
       "      <td>0</td>\n",
       "      <td>1</td>\n",
       "      <td>0</td>\n",
       "      <td>0</td>\n",
       "    </tr>\n",
       "  </tbody>\n",
       "</table>\n",
       "</div>"
      ],
      "text/plain": [
       "   Age  Income  Emp_Length  Loan_Amount  Default  Home_Ownership_MORTGAGE  \\\n",
       "0   22   59000       123.0        35000        1                        0   \n",
       "1   21    9600         5.0         1000        0                        0   \n",
       "2   25    9600         1.0         5500        1                        1   \n",
       "3   23   65500         4.0        35000        1                        0   \n",
       "4   24   54400         8.0        35000        1                        0   \n",
       "\n",
       "   Home_Ownership_OTHER  Home_Ownership_OWN  Home_Ownership_RENT  \\\n",
       "0                     0                   0                    1   \n",
       "1                     0                   1                    0   \n",
       "2                     0                   0                    0   \n",
       "3                     0                   0                    1   \n",
       "4                     0                   0                    1   \n",
       "\n",
       "   Purpose_DEBTCONSOLIDATION  Purpose_EDUCATION  Purpose_HOMEIMPROVEMENT  \\\n",
       "0                          0                  0                        0   \n",
       "1                          0                  1                        0   \n",
       "2                          0                  0                        0   \n",
       "3                          0                  0                        0   \n",
       "4                          0                  0                        0   \n",
       "\n",
       "   Purpose_MEDICAL  Purpose_PERSONAL  Purpose_VENTURE  \n",
       "0                0                 1                0  \n",
       "1                0                 0                0  \n",
       "2                1                 0                0  \n",
       "3                1                 0                0  \n",
       "4                1                 0                0  "
      ]
     },
     "execution_count": 7,
     "metadata": {},
     "output_type": "execute_result"
    }
   ],
   "source": [
    "#create dummy columns for categorical variables in pandas\n",
    "# no need to write inplace if we writw df= if we create in main dataset\n",
    "df = pd.get_dummies(df)\n",
    "df.head()"
   ]
  },
  {
   "cell_type": "code",
   "execution_count": 8,
   "metadata": {},
   "outputs": [
    {
     "name": "stdout",
     "output_type": "stream",
     "text": [
      "<class 'pandas.core.frame.DataFrame'>\n",
      "RangeIndex: 32581 entries, 0 to 32580\n",
      "Data columns (total 14 columns):\n",
      " #   Column                     Non-Null Count  Dtype  \n",
      "---  ------                     --------------  -----  \n",
      " 0   Age                        32581 non-null  int64  \n",
      " 1   Income                     32581 non-null  int64  \n",
      " 2   Emp_Length                 31686 non-null  float64\n",
      " 3   Loan_Amount                32581 non-null  int64  \n",
      " 4   Default                    32581 non-null  int64  \n",
      " 5   Home_Ownership_MORTGAGE    32581 non-null  uint8  \n",
      " 6   Home_Ownership_OWN         32581 non-null  uint8  \n",
      " 7   Home_Ownership_RENT        32581 non-null  uint8  \n",
      " 8   Purpose_DEBTCONSOLIDATION  32581 non-null  uint8  \n",
      " 9   Purpose_EDUCATION          32581 non-null  uint8  \n",
      " 10  Purpose_HOMEIMPROVEMENT    32581 non-null  uint8  \n",
      " 11  Purpose_MEDICAL            32581 non-null  uint8  \n",
      " 12  Purpose_PERSONAL           32581 non-null  uint8  \n",
      " 13  Purpose_VENTURE            32581 non-null  uint8  \n",
      "dtypes: float64(1), int64(4), uint8(9)\n",
      "memory usage: 1.5 MB\n"
     ]
    }
   ],
   "source": [
    "#Remove Home_Ownership_OTHER as it has very less frequency\n",
    "# it will create noise in data it has less than 1%\n",
    "df=df.drop(['Home_Ownership_OTHER'],axis=1)\n",
    "df.info()"
   ]
  },
  {
   "cell_type": "code",
   "execution_count": 9,
   "metadata": {},
   "outputs": [
    {
     "name": "stderr",
     "output_type": "stream",
     "text": [
      "C:\\Users\\YASHME~1\\AppData\\Local\\Temp/ipykernel_8260/3713722160.py:3: FutureWarning: this method is deprecated in favour of `Styler.format(precision=..)`\n",
      "  corr.style.background_gradient(cmap='coolwarm').set_precision(2)\n"
     ]
    },
    {
     "data": {
      "text/html": [
       "<style type=\"text/css\">\n",
       "#T_c4a67_row0_col0, #T_c4a67_row1_col1, #T_c4a67_row2_col2, #T_c4a67_row3_col3, #T_c4a67_row4_col4, #T_c4a67_row5_col5, #T_c4a67_row6_col6, #T_c4a67_row7_col7, #T_c4a67_row8_col8, #T_c4a67_row9_col9, #T_c4a67_row10_col10, #T_c4a67_row11_col11, #T_c4a67_row12_col12, #T_c4a67_row13_col13 {\n",
       "  background-color: #b40426;\n",
       "  color: #f1f1f1;\n",
       "}\n",
       "#T_c4a67_row0_col1, #T_c4a67_row6_col7 {\n",
       "  background-color: #9ebeff;\n",
       "  color: #000000;\n",
       "}\n",
       "#T_c4a67_row0_col2 {\n",
       "  background-color: #a5c3fe;\n",
       "  color: #000000;\n",
       "}\n",
       "#T_c4a67_row0_col3, #T_c4a67_row4_col6, #T_c4a67_row5_col11, #T_c4a67_row10_col0 {\n",
       "  background-color: #6a8bef;\n",
       "  color: #f1f1f1;\n",
       "}\n",
       "#T_c4a67_row0_col4, #T_c4a67_row9_col1, #T_c4a67_row12_col4 {\n",
       "  background-color: #6687ed;\n",
       "  color: #f1f1f1;\n",
       "}\n",
       "#T_c4a67_row0_col5, #T_c4a67_row8_col5, #T_c4a67_row8_col7 {\n",
       "  background-color: #d6dce4;\n",
       "  color: #000000;\n",
       "}\n",
       "#T_c4a67_row0_col6 {\n",
       "  background-color: #85a8fc;\n",
       "  color: #f1f1f1;\n",
       "}\n",
       "#T_c4a67_row0_col7 {\n",
       "  background-color: #cdd9ec;\n",
       "  color: #000000;\n",
       "}\n",
       "#T_c4a67_row0_col8, #T_c4a67_row5_col13 {\n",
       "  background-color: #7093f3;\n",
       "  color: #f1f1f1;\n",
       "}\n",
       "#T_c4a67_row0_col9, #T_c4a67_row4_col2, #T_c4a67_row6_col1 {\n",
       "  background-color: #5f7fe8;\n",
       "  color: #f1f1f1;\n",
       "}\n",
       "#T_c4a67_row0_col10, #T_c4a67_row10_col2 {\n",
       "  background-color: #80a3fa;\n",
       "  color: #f1f1f1;\n",
       "}\n",
       "#T_c4a67_row0_col11, #T_c4a67_row0_col12, #T_c4a67_row3_col6, #T_c4a67_row6_col2 {\n",
       "  background-color: #7ea1fa;\n",
       "  color: #f1f1f1;\n",
       "}\n",
       "#T_c4a67_row0_col13, #T_c4a67_row1_col9, #T_c4a67_row2_col8, #T_c4a67_row3_col8 {\n",
       "  background-color: #7396f5;\n",
       "  color: #f1f1f1;\n",
       "}\n",
       "#T_c4a67_row1_col0, #T_c4a67_row7_col11 {\n",
       "  background-color: #89acfd;\n",
       "  color: #000000;\n",
       "}\n",
       "#T_c4a67_row1_col2 {\n",
       "  background-color: #9dbdff;\n",
       "  color: #000000;\n",
       "}\n",
       "#T_c4a67_row1_col3 {\n",
       "  background-color: #adc9fd;\n",
       "  color: #000000;\n",
       "}\n",
       "#T_c4a67_row1_col4, #T_c4a67_row5_col6 {\n",
       "  background-color: #455cce;\n",
       "  color: #f1f1f1;\n",
       "}\n",
       "#T_c4a67_row1_col5 {\n",
       "  background-color: #edd2c3;\n",
       "  color: #000000;\n",
       "}\n",
       "#T_c4a67_row1_col6, #T_c4a67_row2_col13, #T_c4a67_row4_col3, #T_c4a67_row6_col9, #T_c4a67_row12_col2, #T_c4a67_row13_col2 {\n",
       "  background-color: #7a9df8;\n",
       "  color: #f1f1f1;\n",
       "}\n",
       "#T_c4a67_row1_col7 {\n",
       "  background-color: #b3cdfb;\n",
       "  color: #000000;\n",
       "}\n",
       "#T_c4a67_row1_col8, #T_c4a67_row3_col12, #T_c4a67_row4_col10, #T_c4a67_row6_col11 {\n",
       "  background-color: #7597f6;\n",
       "  color: #f1f1f1;\n",
       "}\n",
       "#T_c4a67_row1_col10, #T_c4a67_row3_col9, #T_c4a67_row3_col10, #T_c4a67_row3_col13, #T_c4a67_row6_col12, #T_c4a67_row8_col2, #T_c4a67_row11_col2 {\n",
       "  background-color: #7699f6;\n",
       "  color: #f1f1f1;\n",
       "}\n",
       "#T_c4a67_row1_col11, #T_c4a67_row2_col9, #T_c4a67_row12_col1 {\n",
       "  background-color: #6e90f2;\n",
       "  color: #f1f1f1;\n",
       "}\n",
       "#T_c4a67_row1_col12, #T_c4a67_row2_col12, #T_c4a67_row5_col10, #T_c4a67_row5_col12, #T_c4a67_row7_col9 {\n",
       "  background-color: #799cf8;\n",
       "  color: #f1f1f1;\n",
       "}\n",
       "#T_c4a67_row1_col13, #T_c4a67_row2_col11, #T_c4a67_row5_col9, #T_c4a67_row10_col1, #T_c4a67_row10_col4 {\n",
       "  background-color: #779af7;\n",
       "  color: #f1f1f1;\n",
       "}\n",
       "#T_c4a67_row2_col0, #T_c4a67_row9_col6, #T_c4a67_row12_col6 {\n",
       "  background-color: #86a9fc;\n",
       "  color: #f1f1f1;\n",
       "}\n",
       "#T_c4a67_row2_col1, #T_c4a67_row6_col13 {\n",
       "  background-color: #93b5fe;\n",
       "  color: #000000;\n",
       "}\n",
       "#T_c4a67_row2_col3, #T_c4a67_row11_col4 {\n",
       "  background-color: #7da0f9;\n",
       "  color: #f1f1f1;\n",
       "}\n",
       "#T_c4a67_row2_col4 {\n",
       "  background-color: #5572df;\n",
       "  color: #f1f1f1;\n",
       "}\n",
       "#T_c4a67_row2_col5 {\n",
       "  background-color: #efcfbf;\n",
       "  color: #000000;\n",
       "}\n",
       "#T_c4a67_row2_col6, #T_c4a67_row3_col4 {\n",
       "  background-color: #8caffe;\n",
       "  color: #000000;\n",
       "}\n",
       "#T_c4a67_row2_col7 {\n",
       "  background-color: #aac7fd;\n",
       "  color: #000000;\n",
       "}\n",
       "#T_c4a67_row2_col10, #T_c4a67_row3_col11, #T_c4a67_row7_col12 {\n",
       "  background-color: #7295f4;\n",
       "  color: #f1f1f1;\n",
       "}\n",
       "#T_c4a67_row3_col0 {\n",
       "  background-color: #6384eb;\n",
       "  color: #f1f1f1;\n",
       "}\n",
       "#T_c4a67_row3_col1 {\n",
       "  background-color: #b9d0f9;\n",
       "  color: #000000;\n",
       "}\n",
       "#T_c4a67_row3_col2 {\n",
       "  background-color: #97b8ff;\n",
       "  color: #000000;\n",
       "}\n",
       "#T_c4a67_row3_col5 {\n",
       "  background-color: #e4d9d2;\n",
       "  color: #000000;\n",
       "}\n",
       "#T_c4a67_row3_col7 {\n",
       "  background-color: #bfd3f6;\n",
       "  color: #000000;\n",
       "}\n",
       "#T_c4a67_row4_col0 {\n",
       "  background-color: #4e68d8;\n",
       "  color: #f1f1f1;\n",
       "}\n",
       "#T_c4a67_row4_col1 {\n",
       "  background-color: #4358cb;\n",
       "  color: #f1f1f1;\n",
       "}\n",
       "#T_c4a67_row4_col5, #T_c4a67_row7_col4 {\n",
       "  background-color: #b2ccfb;\n",
       "  color: #000000;\n",
       "}\n",
       "#T_c4a67_row4_col7 {\n",
       "  background-color: #f0cdbb;\n",
       "  color: #000000;\n",
       "}\n",
       "#T_c4a67_row4_col8, #T_c4a67_row4_col11, #T_c4a67_row10_col6 {\n",
       "  background-color: #88abfd;\n",
       "  color: #000000;\n",
       "}\n",
       "#T_c4a67_row4_col9, #T_c4a67_row8_col6 {\n",
       "  background-color: #688aef;\n",
       "  color: #f1f1f1;\n",
       "}\n",
       "#T_c4a67_row4_col12 {\n",
       "  background-color: #6f92f3;\n",
       "  color: #f1f1f1;\n",
       "}\n",
       "#T_c4a67_row4_col13, #T_c4a67_row11_col1 {\n",
       "  background-color: #6180e9;\n",
       "  color: #f1f1f1;\n",
       "}\n",
       "#T_c4a67_row5_col0, #T_c4a67_row9_col4 {\n",
       "  background-color: #5d7ce6;\n",
       "  color: #f1f1f1;\n",
       "}\n",
       "#T_c4a67_row5_col1, #T_c4a67_row6_col5 {\n",
       "  background-color: #a7c5fe;\n",
       "  color: #000000;\n",
       "}\n",
       "#T_c4a67_row5_col2 {\n",
       "  background-color: #b6cefa;\n",
       "  color: #000000;\n",
       "}\n",
       "#T_c4a67_row5_col3 {\n",
       "  background-color: #82a6fb;\n",
       "  color: #f1f1f1;\n",
       "}\n",
       "#T_c4a67_row5_col4, #T_c4a67_row5_col7, #T_c4a67_row7_col1, #T_c4a67_row7_col2, #T_c4a67_row7_col3, #T_c4a67_row7_col5, #T_c4a67_row7_col6, #T_c4a67_row9_col0, #T_c4a67_row9_col8, #T_c4a67_row9_col10, #T_c4a67_row9_col11, #T_c4a67_row9_col12, #T_c4a67_row9_col13, #T_c4a67_row11_col9 {\n",
       "  background-color: #3b4cc0;\n",
       "  color: #f1f1f1;\n",
       "}\n",
       "#T_c4a67_row5_col8, #T_c4a67_row7_col8 {\n",
       "  background-color: #7b9ff9;\n",
       "  color: #f1f1f1;\n",
       "}\n",
       "#T_c4a67_row6_col0, #T_c4a67_row6_col3, #T_c4a67_row11_col3 {\n",
       "  background-color: #536edd;\n",
       "  color: #f1f1f1;\n",
       "}\n",
       "#T_c4a67_row6_col4, #T_c4a67_row13_col0 {\n",
       "  background-color: #506bda;\n",
       "  color: #f1f1f1;\n",
       "}\n",
       "#T_c4a67_row6_col8, #T_c4a67_row13_col4 {\n",
       "  background-color: #5673e0;\n",
       "  color: #f1f1f1;\n",
       "}\n",
       "#T_c4a67_row6_col10, #T_c4a67_row7_col13 {\n",
       "  background-color: #6c8ff1;\n",
       "  color: #f1f1f1;\n",
       "}\n",
       "#T_c4a67_row7_col0, #T_c4a67_row10_col11 {\n",
       "  background-color: #4b64d5;\n",
       "  color: #f1f1f1;\n",
       "}\n",
       "#T_c4a67_row7_col10, #T_c4a67_row8_col3, #T_c4a67_row12_col3, #T_c4a67_row13_col3 {\n",
       "  background-color: #5a78e4;\n",
       "  color: #f1f1f1;\n",
       "}\n",
       "#T_c4a67_row8_col0 {\n",
       "  background-color: #516ddb;\n",
       "  color: #f1f1f1;\n",
       "}\n",
       "#T_c4a67_row8_col1, #T_c4a67_row9_col2, #T_c4a67_row13_col1 {\n",
       "  background-color: #6b8df0;\n",
       "  color: #f1f1f1;\n",
       "}\n",
       "#T_c4a67_row8_col4, #T_c4a67_row11_col6 {\n",
       "  background-color: #81a4fb;\n",
       "  color: #f1f1f1;\n",
       "}\n",
       "#T_c4a67_row8_col9, #T_c4a67_row8_col10, #T_c4a67_row12_col8, #T_c4a67_row12_col11, #T_c4a67_row12_col13 {\n",
       "  background-color: #3f53c6;\n",
       "  color: #f1f1f1;\n",
       "}\n",
       "#T_c4a67_row8_col11, #T_c4a67_row8_col12, #T_c4a67_row8_col13 {\n",
       "  background-color: #4055c8;\n",
       "  color: #f1f1f1;\n",
       "}\n",
       "#T_c4a67_row9_col3 {\n",
       "  background-color: #5875e1;\n",
       "  color: #f1f1f1;\n",
       "}\n",
       "#T_c4a67_row9_col5 {\n",
       "  background-color: #d1dae9;\n",
       "  color: #000000;\n",
       "}\n",
       "#T_c4a67_row9_col7 {\n",
       "  background-color: #d2dbe8;\n",
       "  color: #000000;\n",
       "}\n",
       "#T_c4a67_row10_col3 {\n",
       "  background-color: #6788ee;\n",
       "  color: #f1f1f1;\n",
       "}\n",
       "#T_c4a67_row10_col5 {\n",
       "  background-color: #d9dce1;\n",
       "  color: #000000;\n",
       "}\n",
       "#T_c4a67_row10_col7 {\n",
       "  background-color: #c9d7f0;\n",
       "  color: #000000;\n",
       "}\n",
       "#T_c4a67_row10_col8, #T_c4a67_row10_col12, #T_c4a67_row10_col13 {\n",
       "  background-color: #4a63d3;\n",
       "  color: #f1f1f1;\n",
       "}\n",
       "#T_c4a67_row10_col9 {\n",
       "  background-color: #4961d2;\n",
       "  color: #f1f1f1;\n",
       "}\n",
       "#T_c4a67_row11_col0 {\n",
       "  background-color: #5977e3;\n",
       "  color: #f1f1f1;\n",
       "}\n",
       "#T_c4a67_row11_col5 {\n",
       "  background-color: #cad8ef;\n",
       "  color: #000000;\n",
       "}\n",
       "#T_c4a67_row11_col7 {\n",
       "  background-color: #dadce0;\n",
       "  color: #000000;\n",
       "}\n",
       "#T_c4a67_row11_col8, #T_c4a67_row11_col10, #T_c4a67_row11_col12, #T_c4a67_row11_col13, #T_c4a67_row13_col9 {\n",
       "  background-color: #3c4ec2;\n",
       "  color: #f1f1f1;\n",
       "}\n",
       "#T_c4a67_row12_col0 {\n",
       "  background-color: #5e7de7;\n",
       "  color: #f1f1f1;\n",
       "}\n",
       "#T_c4a67_row12_col5 {\n",
       "  background-color: #d3dbe7;\n",
       "  color: #000000;\n",
       "}\n",
       "#T_c4a67_row12_col7 {\n",
       "  background-color: #cfdaea;\n",
       "  color: #000000;\n",
       "}\n",
       "#T_c4a67_row12_col9, #T_c4a67_row13_col10 {\n",
       "  background-color: #3d50c3;\n",
       "  color: #f1f1f1;\n",
       "}\n",
       "#T_c4a67_row12_col10, #T_c4a67_row13_col8, #T_c4a67_row13_col11, #T_c4a67_row13_col12 {\n",
       "  background-color: #3e51c5;\n",
       "  color: #f1f1f1;\n",
       "}\n",
       "#T_c4a67_row13_col5 {\n",
       "  background-color: #cedaeb;\n",
       "  color: #000000;\n",
       "}\n",
       "#T_c4a67_row13_col6 {\n",
       "  background-color: #a1c0ff;\n",
       "  color: #000000;\n",
       "}\n",
       "#T_c4a67_row13_col7 {\n",
       "  background-color: #ccd9ed;\n",
       "  color: #000000;\n",
       "}\n",
       "</style>\n",
       "<table id=\"T_c4a67_\">\n",
       "  <thead>\n",
       "    <tr>\n",
       "      <th class=\"blank level0\" >&nbsp;</th>\n",
       "      <th class=\"col_heading level0 col0\" >Age</th>\n",
       "      <th class=\"col_heading level0 col1\" >Income</th>\n",
       "      <th class=\"col_heading level0 col2\" >Emp_Length</th>\n",
       "      <th class=\"col_heading level0 col3\" >Loan_Amount</th>\n",
       "      <th class=\"col_heading level0 col4\" >Default</th>\n",
       "      <th class=\"col_heading level0 col5\" >Home_Ownership_MORTGAGE</th>\n",
       "      <th class=\"col_heading level0 col6\" >Home_Ownership_OWN</th>\n",
       "      <th class=\"col_heading level0 col7\" >Home_Ownership_RENT</th>\n",
       "      <th class=\"col_heading level0 col8\" >Purpose_DEBTCONSOLIDATION</th>\n",
       "      <th class=\"col_heading level0 col9\" >Purpose_EDUCATION</th>\n",
       "      <th class=\"col_heading level0 col10\" >Purpose_HOMEIMPROVEMENT</th>\n",
       "      <th class=\"col_heading level0 col11\" >Purpose_MEDICAL</th>\n",
       "      <th class=\"col_heading level0 col12\" >Purpose_PERSONAL</th>\n",
       "      <th class=\"col_heading level0 col13\" >Purpose_VENTURE</th>\n",
       "    </tr>\n",
       "  </thead>\n",
       "  <tbody>\n",
       "    <tr>\n",
       "      <th id=\"T_c4a67_level0_row0\" class=\"row_heading level0 row0\" >Age</th>\n",
       "      <td id=\"T_c4a67_row0_col0\" class=\"data row0 col0\" >1.00</td>\n",
       "      <td id=\"T_c4a67_row0_col1\" class=\"data row0 col1\" >0.17</td>\n",
       "      <td id=\"T_c4a67_row0_col2\" class=\"data row0 col2\" >0.16</td>\n",
       "      <td id=\"T_c4a67_row0_col3\" class=\"data row0 col3\" >0.05</td>\n",
       "      <td id=\"T_c4a67_row0_col4\" class=\"data row0 col4\" >-0.02</td>\n",
       "      <td id=\"T_c4a67_row0_col5\" class=\"data row0 col5\" >0.03</td>\n",
       "      <td id=\"T_c4a67_row0_col6\" class=\"data row0 col6\" >-0.00</td>\n",
       "      <td id=\"T_c4a67_row0_col7\" class=\"data row0 col7\" >-0.03</td>\n",
       "      <td id=\"T_c4a67_row0_col8\" class=\"data row0 col8\" >-0.01</td>\n",
       "      <td id=\"T_c4a67_row0_col9\" class=\"data row0 col9\" >-0.09</td>\n",
       "      <td id=\"T_c4a67_row0_col10\" class=\"data row0 col10\" >0.07</td>\n",
       "      <td id=\"T_c4a67_row0_col11\" class=\"data row0 col11\" >0.02</td>\n",
       "      <td id=\"T_c4a67_row0_col12\" class=\"data row0 col12\" >0.03</td>\n",
       "      <td id=\"T_c4a67_row0_col13\" class=\"data row0 col13\" >-0.01</td>\n",
       "    </tr>\n",
       "    <tr>\n",
       "      <th id=\"T_c4a67_level0_row1\" class=\"row_heading level0 row1\" >Income</th>\n",
       "      <td id=\"T_c4a67_row1_col0\" class=\"data row1 col0\" >0.17</td>\n",
       "      <td id=\"T_c4a67_row1_col1\" class=\"data row1 col1\" >1.00</td>\n",
       "      <td id=\"T_c4a67_row1_col2\" class=\"data row1 col2\" >0.13</td>\n",
       "      <td id=\"T_c4a67_row1_col3\" class=\"data row1 col3\" >0.27</td>\n",
       "      <td id=\"T_c4a67_row1_col4\" class=\"data row1 col4\" >-0.14</td>\n",
       "      <td id=\"T_c4a67_row1_col5\" class=\"data row1 col5\" >0.20</td>\n",
       "      <td id=\"T_c4a67_row1_col6\" class=\"data row1 col6\" >-0.04</td>\n",
       "      <td id=\"T_c4a67_row1_col7\" class=\"data row1 col7\" >-0.18</td>\n",
       "      <td id=\"T_c4a67_row1_col8\" class=\"data row1 col8\" >0.00</td>\n",
       "      <td id=\"T_c4a67_row1_col9\" class=\"data row1 col9\" >-0.02</td>\n",
       "      <td id=\"T_c4a67_row1_col10\" class=\"data row1 col10\" >0.04</td>\n",
       "      <td id=\"T_c4a67_row1_col11\" class=\"data row1 col11\" >-0.04</td>\n",
       "      <td id=\"T_c4a67_row1_col12\" class=\"data row1 col12\" >0.01</td>\n",
       "      <td id=\"T_c4a67_row1_col13\" class=\"data row1 col13\" >0.00</td>\n",
       "    </tr>\n",
       "    <tr>\n",
       "      <th id=\"T_c4a67_level0_row2\" class=\"row_heading level0 row2\" >Emp_Length</th>\n",
       "      <td id=\"T_c4a67_row2_col0\" class=\"data row2 col0\" >0.16</td>\n",
       "      <td id=\"T_c4a67_row2_col1\" class=\"data row2 col1\" >0.13</td>\n",
       "      <td id=\"T_c4a67_row2_col2\" class=\"data row2 col2\" >1.00</td>\n",
       "      <td id=\"T_c4a67_row2_col3\" class=\"data row2 col3\" >0.11</td>\n",
       "      <td id=\"T_c4a67_row2_col4\" class=\"data row2 col4\" >-0.08</td>\n",
       "      <td id=\"T_c4a67_row2_col5\" class=\"data row2 col5\" >0.22</td>\n",
       "      <td id=\"T_c4a67_row2_col6\" class=\"data row2 col6\" >0.03</td>\n",
       "      <td id=\"T_c4a67_row2_col7\" class=\"data row2 col7\" >-0.23</td>\n",
       "      <td id=\"T_c4a67_row2_col8\" class=\"data row2 col8\" >-0.00</td>\n",
       "      <td id=\"T_c4a67_row2_col9\" class=\"data row2 col9\" >-0.04</td>\n",
       "      <td id=\"T_c4a67_row2_col10\" class=\"data row2 col10\" >0.03</td>\n",
       "      <td id=\"T_c4a67_row2_col11\" class=\"data row2 col11\" >-0.00</td>\n",
       "      <td id=\"T_c4a67_row2_col12\" class=\"data row2 col12\" >0.01</td>\n",
       "      <td id=\"T_c4a67_row2_col13\" class=\"data row2 col13\" >0.01</td>\n",
       "    </tr>\n",
       "    <tr>\n",
       "      <th id=\"T_c4a67_level0_row3\" class=\"row_heading level0 row3\" >Loan_Amount</th>\n",
       "      <td id=\"T_c4a67_row3_col0\" class=\"data row3 col0\" >0.05</td>\n",
       "      <td id=\"T_c4a67_row3_col1\" class=\"data row3 col1\" >0.27</td>\n",
       "      <td id=\"T_c4a67_row3_col2\" class=\"data row3 col2\" >0.11</td>\n",
       "      <td id=\"T_c4a67_row3_col3\" class=\"data row3 col3\" >1.00</td>\n",
       "      <td id=\"T_c4a67_row3_col4\" class=\"data row3 col4\" >0.11</td>\n",
       "      <td id=\"T_c4a67_row3_col5\" class=\"data row3 col5\" >0.13</td>\n",
       "      <td id=\"T_c4a67_row3_col6\" class=\"data row3 col6\" >-0.03</td>\n",
       "      <td id=\"T_c4a67_row3_col7\" class=\"data row3 col7\" >-0.12</td>\n",
       "      <td id=\"T_c4a67_row3_col8\" class=\"data row3 col8\" >0.00</td>\n",
       "      <td id=\"T_c4a67_row3_col9\" class=\"data row3 col9\" >-0.01</td>\n",
       "      <td id=\"T_c4a67_row3_col10\" class=\"data row3 col10\" >0.04</td>\n",
       "      <td id=\"T_c4a67_row3_col11\" class=\"data row3 col11\" >-0.02</td>\n",
       "      <td id=\"T_c4a67_row3_col12\" class=\"data row3 col12\" >-0.00</td>\n",
       "      <td id=\"T_c4a67_row3_col13\" class=\"data row3 col13\" >-0.00</td>\n",
       "    </tr>\n",
       "    <tr>\n",
       "      <th id=\"T_c4a67_level0_row4\" class=\"row_heading level0 row4\" >Default</th>\n",
       "      <td id=\"T_c4a67_row4_col0\" class=\"data row4 col0\" >-0.02</td>\n",
       "      <td id=\"T_c4a67_row4_col1\" class=\"data row4 col1\" >-0.14</td>\n",
       "      <td id=\"T_c4a67_row4_col2\" class=\"data row4 col2\" >-0.08</td>\n",
       "      <td id=\"T_c4a67_row4_col3\" class=\"data row4 col3\" >0.11</td>\n",
       "      <td id=\"T_c4a67_row4_col4\" class=\"data row4 col4\" >1.00</td>\n",
       "      <td id=\"T_c4a67_row4_col5\" class=\"data row4 col5\" >-0.19</td>\n",
       "      <td id=\"T_c4a67_row4_col6\" class=\"data row4 col6\" >-0.10</td>\n",
       "      <td id=\"T_c4a67_row4_col7\" class=\"data row4 col7\" >0.24</td>\n",
       "      <td id=\"T_c4a67_row4_col8\" class=\"data row4 col8\" >0.07</td>\n",
       "      <td id=\"T_c4a67_row4_col9\" class=\"data row4 col9\" >-0.06</td>\n",
       "      <td id=\"T_c4a67_row4_col10\" class=\"data row4 col10\" >0.04</td>\n",
       "      <td id=\"T_c4a67_row4_col11\" class=\"data row4 col11\" >0.06</td>\n",
       "      <td id=\"T_c4a67_row4_col12\" class=\"data row4 col12\" >-0.02</td>\n",
       "      <td id=\"T_c4a67_row4_col13\" class=\"data row4 col13\" >-0.08</td>\n",
       "    </tr>\n",
       "    <tr>\n",
       "      <th id=\"T_c4a67_level0_row5\" class=\"row_heading level0 row5\" >Home_Ownership_MORTGAGE</th>\n",
       "      <td id=\"T_c4a67_row5_col0\" class=\"data row5 col0\" >0.03</td>\n",
       "      <td id=\"T_c4a67_row5_col1\" class=\"data row5 col1\" >0.20</td>\n",
       "      <td id=\"T_c4a67_row5_col2\" class=\"data row5 col2\" >0.22</td>\n",
       "      <td id=\"T_c4a67_row5_col3\" class=\"data row5 col3\" >0.13</td>\n",
       "      <td id=\"T_c4a67_row5_col4\" class=\"data row5 col4\" >-0.19</td>\n",
       "      <td id=\"T_c4a67_row5_col5\" class=\"data row5 col5\" >1.00</td>\n",
       "      <td id=\"T_c4a67_row5_col6\" class=\"data row5 col6\" >-0.25</td>\n",
       "      <td id=\"T_c4a67_row5_col7\" class=\"data row5 col7\" >-0.85</td>\n",
       "      <td id=\"T_c4a67_row5_col8\" class=\"data row5 col8\" >0.03</td>\n",
       "      <td id=\"T_c4a67_row5_col9\" class=\"data row5 col9\" >-0.01</td>\n",
       "      <td id=\"T_c4a67_row5_col10\" class=\"data row5 col10\" >0.05</td>\n",
       "      <td id=\"T_c4a67_row5_col11\" class=\"data row5 col11\" >-0.05</td>\n",
       "      <td id=\"T_c4a67_row5_col12\" class=\"data row5 col12\" >0.01</td>\n",
       "      <td id=\"T_c4a67_row5_col13\" class=\"data row5 col13\" >-0.02</td>\n",
       "    </tr>\n",
       "    <tr>\n",
       "      <th id=\"T_c4a67_level0_row6\" class=\"row_heading level0 row6\" >Home_Ownership_OWN</th>\n",
       "      <td id=\"T_c4a67_row6_col0\" class=\"data row6 col0\" >-0.00</td>\n",
       "      <td id=\"T_c4a67_row6_col1\" class=\"data row6 col1\" >-0.04</td>\n",
       "      <td id=\"T_c4a67_row6_col2\" class=\"data row6 col2\" >0.03</td>\n",
       "      <td id=\"T_c4a67_row6_col3\" class=\"data row6 col3\" >-0.03</td>\n",
       "      <td id=\"T_c4a67_row6_col4\" class=\"data row6 col4\" >-0.10</td>\n",
       "      <td id=\"T_c4a67_row6_col5\" class=\"data row6 col5\" >-0.25</td>\n",
       "      <td id=\"T_c4a67_row6_col6\" class=\"data row6 col6\" >1.00</td>\n",
       "      <td id=\"T_c4a67_row6_col7\" class=\"data row6 col7\" >-0.30</td>\n",
       "      <td id=\"T_c4a67_row6_col8\" class=\"data row6 col8\" >-0.11</td>\n",
       "      <td id=\"T_c4a67_row6_col9\" class=\"data row6 col9\" >0.00</td>\n",
       "      <td id=\"T_c4a67_row6_col10\" class=\"data row6 col10\" >0.01</td>\n",
       "      <td id=\"T_c4a67_row6_col11\" class=\"data row6 col11\" >-0.01</td>\n",
       "      <td id=\"T_c4a67_row6_col12\" class=\"data row6 col12\" >0.00</td>\n",
       "      <td id=\"T_c4a67_row6_col13\" class=\"data row6 col13\" >0.10</td>\n",
       "    </tr>\n",
       "    <tr>\n",
       "      <th id=\"T_c4a67_level0_row7\" class=\"row_heading level0 row7\" >Home_Ownership_RENT</th>\n",
       "      <td id=\"T_c4a67_row7_col0\" class=\"data row7 col0\" >-0.03</td>\n",
       "      <td id=\"T_c4a67_row7_col1\" class=\"data row7 col1\" >-0.18</td>\n",
       "      <td id=\"T_c4a67_row7_col2\" class=\"data row7 col2\" >-0.23</td>\n",
       "      <td id=\"T_c4a67_row7_col3\" class=\"data row7 col3\" >-0.12</td>\n",
       "      <td id=\"T_c4a67_row7_col4\" class=\"data row7 col4\" >0.24</td>\n",
       "      <td id=\"T_c4a67_row7_col5\" class=\"data row7 col5\" >-0.85</td>\n",
       "      <td id=\"T_c4a67_row7_col6\" class=\"data row7 col6\" >-0.30</td>\n",
       "      <td id=\"T_c4a67_row7_col7\" class=\"data row7 col7\" >1.00</td>\n",
       "      <td id=\"T_c4a67_row7_col8\" class=\"data row7 col8\" >0.03</td>\n",
       "      <td id=\"T_c4a67_row7_col9\" class=\"data row7 col9\" >0.00</td>\n",
       "      <td id=\"T_c4a67_row7_col10\" class=\"data row7 col10\" >-0.06</td>\n",
       "      <td id=\"T_c4a67_row7_col11\" class=\"data row7 col11\" >0.06</td>\n",
       "      <td id=\"T_c4a67_row7_col12\" class=\"data row7 col12\" >-0.01</td>\n",
       "      <td id=\"T_c4a67_row7_col13\" class=\"data row7 col13\" >-0.03</td>\n",
       "    </tr>\n",
       "    <tr>\n",
       "      <th id=\"T_c4a67_level0_row8\" class=\"row_heading level0 row8\" >Purpose_DEBTCONSOLIDATION</th>\n",
       "      <td id=\"T_c4a67_row8_col0\" class=\"data row8 col0\" >-0.01</td>\n",
       "      <td id=\"T_c4a67_row8_col1\" class=\"data row8 col1\" >0.00</td>\n",
       "      <td id=\"T_c4a67_row8_col2\" class=\"data row8 col2\" >-0.00</td>\n",
       "      <td id=\"T_c4a67_row8_col3\" class=\"data row8 col3\" >0.00</td>\n",
       "      <td id=\"T_c4a67_row8_col4\" class=\"data row8 col4\" >0.07</td>\n",
       "      <td id=\"T_c4a67_row8_col5\" class=\"data row8 col5\" >0.03</td>\n",
       "      <td id=\"T_c4a67_row8_col6\" class=\"data row8 col6\" >-0.11</td>\n",
       "      <td id=\"T_c4a67_row8_col7\" class=\"data row8 col7\" >0.03</td>\n",
       "      <td id=\"T_c4a67_row8_col8\" class=\"data row8 col8\" >1.00</td>\n",
       "      <td id=\"T_c4a67_row8_col9\" class=\"data row8 col9\" >-0.22</td>\n",
       "      <td id=\"T_c4a67_row8_col10\" class=\"data row8 col10\" >-0.15</td>\n",
       "      <td id=\"T_c4a67_row8_col11\" class=\"data row8 col11\" >-0.21</td>\n",
       "      <td id=\"T_c4a67_row8_col12\" class=\"data row8 col12\" >-0.20</td>\n",
       "      <td id=\"T_c4a67_row8_col13\" class=\"data row8 col13\" >-0.20</td>\n",
       "    </tr>\n",
       "    <tr>\n",
       "      <th id=\"T_c4a67_level0_row9\" class=\"row_heading level0 row9\" >Purpose_EDUCATION</th>\n",
       "      <td id=\"T_c4a67_row9_col0\" class=\"data row9 col0\" >-0.09</td>\n",
       "      <td id=\"T_c4a67_row9_col1\" class=\"data row9 col1\" >-0.02</td>\n",
       "      <td id=\"T_c4a67_row9_col2\" class=\"data row9 col2\" >-0.04</td>\n",
       "      <td id=\"T_c4a67_row9_col3\" class=\"data row9 col3\" >-0.01</td>\n",
       "      <td id=\"T_c4a67_row9_col4\" class=\"data row9 col4\" >-0.06</td>\n",
       "      <td id=\"T_c4a67_row9_col5\" class=\"data row9 col5\" >-0.01</td>\n",
       "      <td id=\"T_c4a67_row9_col6\" class=\"data row9 col6\" >0.00</td>\n",
       "      <td id=\"T_c4a67_row9_col7\" class=\"data row9 col7\" >0.00</td>\n",
       "      <td id=\"T_c4a67_row9_col8\" class=\"data row9 col8\" >-0.22</td>\n",
       "      <td id=\"T_c4a67_row9_col9\" class=\"data row9 col9\" >1.00</td>\n",
       "      <td id=\"T_c4a67_row9_col10\" class=\"data row9 col10\" >-0.18</td>\n",
       "      <td id=\"T_c4a67_row9_col11\" class=\"data row9 col11\" >-0.24</td>\n",
       "      <td id=\"T_c4a67_row9_col12\" class=\"data row9 col12\" >-0.22</td>\n",
       "      <td id=\"T_c4a67_row9_col13\" class=\"data row9 col13\" >-0.23</td>\n",
       "    </tr>\n",
       "    <tr>\n",
       "      <th id=\"T_c4a67_level0_row10\" class=\"row_heading level0 row10\" >Purpose_HOMEIMPROVEMENT</th>\n",
       "      <td id=\"T_c4a67_row10_col0\" class=\"data row10 col0\" >0.07</td>\n",
       "      <td id=\"T_c4a67_row10_col1\" class=\"data row10 col1\" >0.04</td>\n",
       "      <td id=\"T_c4a67_row10_col2\" class=\"data row10 col2\" >0.03</td>\n",
       "      <td id=\"T_c4a67_row10_col3\" class=\"data row10 col3\" >0.04</td>\n",
       "      <td id=\"T_c4a67_row10_col4\" class=\"data row10 col4\" >0.04</td>\n",
       "      <td id=\"T_c4a67_row10_col5\" class=\"data row10 col5\" >0.05</td>\n",
       "      <td id=\"T_c4a67_row10_col6\" class=\"data row10 col6\" >0.01</td>\n",
       "      <td id=\"T_c4a67_row10_col7\" class=\"data row10 col7\" >-0.06</td>\n",
       "      <td id=\"T_c4a67_row10_col8\" class=\"data row10 col8\" >-0.15</td>\n",
       "      <td id=\"T_c4a67_row10_col9\" class=\"data row10 col9\" >-0.18</td>\n",
       "      <td id=\"T_c4a67_row10_col10\" class=\"data row10 col10\" >1.00</td>\n",
       "      <td id=\"T_c4a67_row10_col11\" class=\"data row10 col11\" >-0.17</td>\n",
       "      <td id=\"T_c4a67_row10_col12\" class=\"data row10 col12\" >-0.16</td>\n",
       "      <td id=\"T_c4a67_row10_col13\" class=\"data row10 col13\" >-0.16</td>\n",
       "    </tr>\n",
       "    <tr>\n",
       "      <th id=\"T_c4a67_level0_row11\" class=\"row_heading level0 row11\" >Purpose_MEDICAL</th>\n",
       "      <td id=\"T_c4a67_row11_col0\" class=\"data row11 col0\" >0.02</td>\n",
       "      <td id=\"T_c4a67_row11_col1\" class=\"data row11 col1\" >-0.04</td>\n",
       "      <td id=\"T_c4a67_row11_col2\" class=\"data row11 col2\" >-0.00</td>\n",
       "      <td id=\"T_c4a67_row11_col3\" class=\"data row11 col3\" >-0.02</td>\n",
       "      <td id=\"T_c4a67_row11_col4\" class=\"data row11 col4\" >0.06</td>\n",
       "      <td id=\"T_c4a67_row11_col5\" class=\"data row11 col5\" >-0.05</td>\n",
       "      <td id=\"T_c4a67_row11_col6\" class=\"data row11 col6\" >-0.01</td>\n",
       "      <td id=\"T_c4a67_row11_col7\" class=\"data row11 col7\" >0.06</td>\n",
       "      <td id=\"T_c4a67_row11_col8\" class=\"data row11 col8\" >-0.21</td>\n",
       "      <td id=\"T_c4a67_row11_col9\" class=\"data row11 col9\" >-0.24</td>\n",
       "      <td id=\"T_c4a67_row11_col10\" class=\"data row11 col10\" >-0.17</td>\n",
       "      <td id=\"T_c4a67_row11_col11\" class=\"data row11 col11\" >1.00</td>\n",
       "      <td id=\"T_c4a67_row11_col12\" class=\"data row11 col12\" >-0.22</td>\n",
       "      <td id=\"T_c4a67_row11_col13\" class=\"data row11 col13\" >-0.22</td>\n",
       "    </tr>\n",
       "    <tr>\n",
       "      <th id=\"T_c4a67_level0_row12\" class=\"row_heading level0 row12\" >Purpose_PERSONAL</th>\n",
       "      <td id=\"T_c4a67_row12_col0\" class=\"data row12 col0\" >0.03</td>\n",
       "      <td id=\"T_c4a67_row12_col1\" class=\"data row12 col1\" >0.01</td>\n",
       "      <td id=\"T_c4a67_row12_col2\" class=\"data row12 col2\" >0.01</td>\n",
       "      <td id=\"T_c4a67_row12_col3\" class=\"data row12 col3\" >-0.00</td>\n",
       "      <td id=\"T_c4a67_row12_col4\" class=\"data row12 col4\" >-0.02</td>\n",
       "      <td id=\"T_c4a67_row12_col5\" class=\"data row12 col5\" >0.01</td>\n",
       "      <td id=\"T_c4a67_row12_col6\" class=\"data row12 col6\" >0.00</td>\n",
       "      <td id=\"T_c4a67_row12_col7\" class=\"data row12 col7\" >-0.01</td>\n",
       "      <td id=\"T_c4a67_row12_col8\" class=\"data row12 col8\" >-0.20</td>\n",
       "      <td id=\"T_c4a67_row12_col9\" class=\"data row12 col9\" >-0.22</td>\n",
       "      <td id=\"T_c4a67_row12_col10\" class=\"data row12 col10\" >-0.16</td>\n",
       "      <td id=\"T_c4a67_row12_col11\" class=\"data row12 col11\" >-0.22</td>\n",
       "      <td id=\"T_c4a67_row12_col12\" class=\"data row12 col12\" >1.00</td>\n",
       "      <td id=\"T_c4a67_row12_col13\" class=\"data row12 col13\" >-0.21</td>\n",
       "    </tr>\n",
       "    <tr>\n",
       "      <th id=\"T_c4a67_level0_row13\" class=\"row_heading level0 row13\" >Purpose_VENTURE</th>\n",
       "      <td id=\"T_c4a67_row13_col0\" class=\"data row13 col0\" >-0.01</td>\n",
       "      <td id=\"T_c4a67_row13_col1\" class=\"data row13 col1\" >0.00</td>\n",
       "      <td id=\"T_c4a67_row13_col2\" class=\"data row13 col2\" >0.01</td>\n",
       "      <td id=\"T_c4a67_row13_col3\" class=\"data row13 col3\" >-0.00</td>\n",
       "      <td id=\"T_c4a67_row13_col4\" class=\"data row13 col4\" >-0.08</td>\n",
       "      <td id=\"T_c4a67_row13_col5\" class=\"data row13 col5\" >-0.02</td>\n",
       "      <td id=\"T_c4a67_row13_col6\" class=\"data row13 col6\" >0.10</td>\n",
       "      <td id=\"T_c4a67_row13_col7\" class=\"data row13 col7\" >-0.03</td>\n",
       "      <td id=\"T_c4a67_row13_col8\" class=\"data row13 col8\" >-0.20</td>\n",
       "      <td id=\"T_c4a67_row13_col9\" class=\"data row13 col9\" >-0.23</td>\n",
       "      <td id=\"T_c4a67_row13_col10\" class=\"data row13 col10\" >-0.16</td>\n",
       "      <td id=\"T_c4a67_row13_col11\" class=\"data row13 col11\" >-0.22</td>\n",
       "      <td id=\"T_c4a67_row13_col12\" class=\"data row13 col12\" >-0.21</td>\n",
       "      <td id=\"T_c4a67_row13_col13\" class=\"data row13 col13\" >1.00</td>\n",
       "    </tr>\n",
       "  </tbody>\n",
       "</table>\n"
      ],
      "text/plain": [
       "<pandas.io.formats.style.Styler at 0x192c1f6cf40>"
      ]
     },
     "execution_count": 9,
     "metadata": {},
     "output_type": "execute_result"
    }
   ],
   "source": [
    "#draw corelation plot\n",
    "corr = df.corr()\n",
    "corr.style.background_gradient(cmap='coolwarm').set_precision(2)\n"
   ]
  },
  {
   "cell_type": "code",
   "execution_count": 10,
   "metadata": {},
   "outputs": [
    {
     "name": "stdout",
     "output_type": "stream",
     "text": [
      "The skewness of Age Column is  2.5813925261849846\n"
     ]
    },
    {
     "name": "stderr",
     "output_type": "stream",
     "text": [
      "C:\\Users\\yash mehra\\AppData\\Local\\Programs\\Python\\Python39\\lib\\site-packages\\seaborn\\distributions.py:2557: FutureWarning: `distplot` is a deprecated function and will be removed in a future version. Please adapt your code to use either `displot` (a figure-level function with similar flexibility) or `histplot` (an axes-level function for histograms).\n",
      "  warnings.warn(msg, FutureWarning)\n"
     ]
    },
    {
     "data": {
      "image/png": "[encoded data removed]",
      "text/plain": [
       "<Figure size 432x288 with 1 Axes>"
      ]
     },
     "metadata": {
      "needs_background": "light"
     },
     "output_type": "display_data"
    }
   ],
   "source": [
    "#Load the plotting libraries\n",
    "import seaborn as sns\n",
    "import matplotlib.pyplot as plt\n",
    "#skenewss - 0.5 to +0.5: symmetric\n",
    "#-1 to -0.5: moderately skewed\n",
    "#+0.5 to +1: moderately skewed\n",
    "# less than 1 or greater than 1: highly skewed\n",
    "print(\"The skewness of Age Column is \",df['Age'].skew())\n",
    "#density plot for Age column\n",
    "sns.distplot(df['Age'])\n",
    "plt.title(\"The density plot for Age Column\")\n",
    "plt.show()\n",
    "\n"
   ]
  },
  {
   "cell_type": "code",
   "execution_count": 11,
   "metadata": {},
   "outputs": [
    {
     "name": "stdout",
     "output_type": "stream",
     "text": [
      "The skewness of Age Column is  0.9941144158635384\n"
     ]
    },
    {
     "name": "stderr",
     "output_type": "stream",
     "text": [
      "C:\\Users\\yash mehra\\AppData\\Local\\Programs\\Python\\Python39\\lib\\site-packages\\seaborn\\distributions.py:2557: FutureWarning: `distplot` is a deprecated function and will be removed in a future version. Please adapt your code to use either `displot` (a figure-level function with similar flexibility) or `histplot` (an axes-level function for histograms).\n",
      "  warnings.warn(msg, FutureWarning)\n"
     ]
    },
    {
     "data": {
      "image/png": "[encoded data removed]",
      "text/plain": [
       "<Figure size 432x288 with 1 Axes>"
      ]
     },
     "metadata": {
      "needs_background": "light"
     },
     "output_type": "display_data"
    }
   ],
   "source": [
    "import numpy as np\n",
    "#first find out the quantile value, 25%le (q1), 50%le (q2), and 75%le (q3)\n",
    "quantiles = df['Age'].quantile([0.25,0.5,0.75])\n",
    "outliers = quantiles[0.75] + 1.5*(quantiles[0.75]-quantiles[0.25])\n",
    "#replace the outlier by median value\n",
    "#np=numpy\n",
    "df['Age']=np.where(df['Age']> outliers, df['Age'].median(),df['Age'])\n",
    "#less than for negatively skewwed outliers\n",
    "print(\"The skewness of Age Column is \",df['Age'].skew())\n",
    "#density plot for Age column\n",
    "sns.distplot(df['Age'])\n",
    "plt.title(\"The density plot for Age Column\")\n",
    "plt.show()\n"
   ]
  },
  {
   "cell_type": "code",
   "execution_count": 12,
   "metadata": {},
   "outputs": [
    {
     "name": "stdout",
     "output_type": "stream",
     "text": [
      "The skewness of Income Column is  32.865348833904434\n"
     ]
    },
    {
     "name": "stderr",
     "output_type": "stream",
     "text": [
      "C:\\Users\\yash mehra\\AppData\\Local\\Programs\\Python\\Python39\\lib\\site-packages\\seaborn\\distributions.py:2557: FutureWarning: `distplot` is a deprecated function and will be removed in a future version. Please adapt your code to use either `displot` (a figure-level function with similar flexibility) or `histplot` (an axes-level function for histograms).\n",
      "  warnings.warn(msg, FutureWarning)\n"
     ]
    },
    {
     "data": {
      "image/png": "[encoded data removed]",
      "text/plain": [
       "<Figure size 432x288 with 1 Axes>"
      ]
     },
     "metadata": {
      "needs_background": "light"
     },
     "output_type": "display_data"
    }
   ],
   "source": [
    "print(\"The skewness of Income Column is \",df['Income'].skew())\n",
    "#density plot for Income column\n",
    "sns.distplot(df['Income'])\n",
    "plt.title(\"The density plot for Income Column\")\n",
    "plt.show()\n",
    "\n"
   ]
  },
  {
   "cell_type": "code",
   "execution_count": 13,
   "metadata": {},
   "outputs": [
    {
     "name": "stdout",
     "output_type": "stream",
     "text": [
      "The skewness of Income Column is  0.77356752013119\n"
     ]
    },
    {
     "name": "stderr",
     "output_type": "stream",
     "text": [
      "C:\\Users\\yash mehra\\AppData\\Local\\Programs\\Python\\Python39\\lib\\site-packages\\seaborn\\distributions.py:2557: FutureWarning: `distplot` is a deprecated function and will be removed in a future version. Please adapt your code to use either `displot` (a figure-level function with similar flexibility) or `histplot` (an axes-level function for histograms).\n",
      "  warnings.warn(msg, FutureWarning)\n"
     ]
    },
    {
     "data": {
      "image/png": "[encoded data removed]",
      "text/plain": [
       "<Figure size 432x288 with 1 Axes>"
      ]
     },
     "metadata": {
      "needs_background": "light"
     },
     "output_type": "display_data"
    }
   ],
   "source": [
    "quantiles = df['Income'].quantile([0.25,0.5,0.75])\n",
    "outliers = quantiles[0.75] + 1.5*(quantiles[0.75]-quantiles[0.25])\n",
    "#replace the outlier by median value\n",
    "df['Income']=np.where(df['Income']> outliers, df['Income'].median(),df['Income'])\n",
    "print(\"The skewness of Income Column is \",df['Income'].skew())\n",
    "#density plot for Income column\n",
    "sns.distplot(df['Income'])\n",
    "plt.title(\"The density plot for Income Column\")\n",
    "plt.show()\n"
   ]
  },
  {
   "cell_type": "code",
   "execution_count": 14,
   "metadata": {},
   "outputs": [
    {
     "name": "stdout",
     "output_type": "stream",
     "text": [
      "The skewness of Employment Length Column is  2.6628784524960363\n"
     ]
    },
    {
     "name": "stderr",
     "output_type": "stream",
     "text": [
      "C:\\Users\\yash mehra\\AppData\\Local\\Programs\\Python\\Python39\\lib\\site-packages\\seaborn\\distributions.py:2557: FutureWarning: `distplot` is a deprecated function and will be removed in a future version. Please adapt your code to use either `displot` (a figure-level function with similar flexibility) or `histplot` (an axes-level function for histograms).\n",
      "  warnings.warn(msg, FutureWarning)\n"
     ]
    },
    {
     "data": {
      "image/png": "[encoded data removed]",
      "text/plain": [
       "<Figure size 432x288 with 1 Axes>"
      ]
     },
     "metadata": {
      "needs_background": "light"
     },
     "output_type": "display_data"
    }
   ],
   "source": [
    "#First Replace the missing value by median\n",
    "df['Emp_Length'] = df['Emp_Length'].fillna(df['Emp_Length'].median())\n",
    "print(\"The skewness of Employment Length Column is \",df['Emp_Length'].skew())\n",
    "#density plot for Emp_Length column\n",
    "sns.distplot(df['Emp_Length'])\n",
    "plt.title(\"The density plot for Employment Length Column\")\n",
    "plt.show()\n",
    "\n"
   ]
  },
  {
   "cell_type": "code",
   "execution_count": 15,
   "metadata": {},
   "outputs": [
    {
     "name": "stdout",
     "output_type": "stream",
     "text": [
      "The skewness of Emp_Length Column is  0.7184754974241526\n"
     ]
    },
    {
     "name": "stderr",
     "output_type": "stream",
     "text": [
      "C:\\Users\\yash mehra\\AppData\\Local\\Programs\\Python\\Python39\\lib\\site-packages\\seaborn\\distributions.py:2557: FutureWarning: `distplot` is a deprecated function and will be removed in a future version. Please adapt your code to use either `displot` (a figure-level function with similar flexibility) or `histplot` (an axes-level function for histograms).\n",
      "  warnings.warn(msg, FutureWarning)\n"
     ]
    },
    {
     "data": {
      "image/png": "[encoded data removed]",
      "text/plain": [
       "<Figure size 432x288 with 1 Axes>"
      ]
     },
     "metadata": {
      "needs_background": "light"
     },
     "output_type": "display_data"
    }
   ],
   "source": [
    "quantiles = df['Emp_Length'].quantile([0.25,0.5,0.75])\n",
    "outliers = quantiles[0.75] + 1.5*(quantiles[0.75]-quantiles[0.25])\n",
    "#replace the outlier by median value\n",
    "df['Emp_Length']=np.where(df['Emp_Length']> outliers, df['Emp_Length'].median(),df['Emp_Length'])\n",
    "print(\"The skewness of Emp_Length Column is \",df['Emp_Length'].skew())\n",
    "#density plot for Emp_Length column\n",
    "sns.distplot(df['Emp_Length'])\n",
    "plt.title(\"The density plot for Emp_Length Column\")\n",
    "plt.show()\n"
   ]
  },
  {
   "cell_type": "code",
   "execution_count": 16,
   "metadata": {},
   "outputs": [
    {
     "name": "stdout",
     "output_type": "stream",
     "text": [
      "The skewness of Loan Amount Column is  1.1924774277661998\n"
     ]
    },
    {
     "name": "stderr",
     "output_type": "stream",
     "text": [
      "C:\\Users\\yash mehra\\AppData\\Local\\Programs\\Python\\Python39\\lib\\site-packages\\seaborn\\distributions.py:2557: FutureWarning: `distplot` is a deprecated function and will be removed in a future version. Please adapt your code to use either `displot` (a figure-level function with similar flexibility) or `histplot` (an axes-level function for histograms).\n",
      "  warnings.warn(msg, FutureWarning)\n"
     ]
    },
    {
     "data": {
      "image/png": "[encoded data removed]",
      "text/plain": [
       "<Figure size 432x288 with 1 Axes>"
      ]
     },
     "metadata": {
      "needs_background": "light"
     },
     "output_type": "display_data"
    },
    {
     "name": "stdout",
     "output_type": "stream",
     "text": [
      "The skewness of Loan_Amount Column is  0.7234247096561005\n"
     ]
    },
    {
     "name": "stderr",
     "output_type": "stream",
     "text": [
      "C:\\Users\\yash mehra\\AppData\\Local\\Programs\\Python\\Python39\\lib\\site-packages\\seaborn\\distributions.py:2557: FutureWarning: `distplot` is a deprecated function and will be removed in a future version. Please adapt your code to use either `displot` (a figure-level function with similar flexibility) or `histplot` (an axes-level function for histograms).\n",
      "  warnings.warn(msg, FutureWarning)\n"
     ]
    },
    {
     "data": {
      "image/png": "[encoded data removed]",
      "text/plain": [
       "<Figure size 432x288 with 1 Axes>"
      ]
     },
     "metadata": {
      "needs_background": "light"
     },
     "output_type": "display_data"
    }
   ],
   "source": [
    "print(\"The skewness of Loan Amount Column is \",df['Loan_Amount'].skew())\n",
    "#density plot for Loan Amount column\n",
    "sns.distplot(df['Loan_Amount'])\n",
    "plt.title(\"The density plot for Loan Amount Column\")\n",
    "plt.show()\n",
    "#Agin it is highly skewed so replacing the noise\n",
    "quantiles = df['Loan_Amount'].quantile([0.25,0.5,0.75])\n",
    "outliers = quantiles[0.75] + 1.5*(quantiles[0.75]-quantiles[0.25])\n",
    "#replace the outlier by median value\n",
    "df['Loan_Amount']=np.where(df['Loan_Amount']> outliers, df['Loan_Amount'].median(),df['Loan_Amount'])\n",
    "print(\"The skewness of Loan_Amount Column is \",df['Loan_Amount'].skew())\n",
    "#density plot for Loan_Amount column\n",
    "sns.distplot(df['Loan_Amount'])\n",
    "plt.title(\"The density plot for Loan_Amount Column\")\n",
    "plt.show()"
   ]
  },
  {
   "cell_type": "code",
   "execution_count": 17,
   "metadata": {},
   "outputs": [
    {
     "name": "stdout",
     "output_type": "stream",
     "text": [
      "the size of X_train data  (22806, 13)\n",
      "the size of X_test data  (9775, 13)\n"
     ]
    }
   ],
   "source": [
    "# divide the dataset by train and test\n",
    "from sklearn.model_selection import train_test_split\n",
    "#training data 70%, and testing data 30%. lets randomize the data before splitting\n",
    "#Remember the value for random_state = 123 is just to repeat the same training and testing data after splitting\n",
    "#First divide the dataset by independent variables (X), and 1 dependent variable(y)\n",
    "# x contains data except default column\n",
    "# y is only default \n",
    "X = df.drop(['Default'], axis = 1)\n",
    "y = df['Default']\n",
    "X_train, X_test, y_train, y_test = train_test_split(X,\n",
    "                                    y, train_size=0.7 , random_state=100)\n",
    "print(\"the size of X_train data \",X_train.shape)\n",
    "print(\"the size of X_test data \", X_test.shape)"
   ]
  },
  {
   "cell_type": "code",
   "execution_count": 18,
   "metadata": {},
   "outputs": [
    {
     "data": {
      "text/plain": [
       "LogisticRegression()"
      ]
     },
     "execution_count": 18,
     "metadata": {},
     "output_type": "execute_result"
    }
   ],
   "source": [
    "from sklearn.linear_model import LogisticRegression\n",
    "# Create a Logistic Regression Object First\n",
    "lr = LogisticRegression()\n",
    "lr.fit(X_train,y_train)"
   ]
  },
  {
   "cell_type": "code",
   "execution_count": 19,
   "metadata": {},
   "outputs": [
    {
     "data": {
      "text/plain": [
       "array([[ 9.31055592e-10, -3.85787188e-05, -3.17494679e-08,\n",
       "         8.92067070e-05, -1.06238485e-08, -7.32062652e-09,\n",
       "         1.81158696e-08,  5.53033912e-09, -4.21201523e-09,\n",
       "         3.42677556e-09,  3.02291095e-09, -1.35353078e-09,\n",
       "        -6.09444459e-09]])"
      ]
     },
     "execution_count": 19,
     "metadata": {},
     "output_type": "execute_result"
    }
   ],
   "source": [
    "lr.coef_"
   ]
  },
  {
   "cell_type": "code",
   "execution_count": 20,
   "metadata": {},
   "outputs": [
    {
     "data": {
      "text/html": [
       "<div>\n",
       "<style scoped>\n",
       "    .dataframe tbody tr th:only-of-type {\n",
       "        vertical-align: middle;\n",
       "    }\n",
       "\n",
       "    .dataframe tbody tr th {\n",
       "        vertical-align: top;\n",
       "    }\n",
       "\n",
       "    .dataframe thead th {\n",
       "        text-align: right;\n",
       "    }\n",
       "</style>\n",
       "<table border=\"1\" class=\"dataframe\">\n",
       "  <thead>\n",
       "    <tr style=\"text-align: right;\">\n",
       "      <th></th>\n",
       "      <th>ColumnName</th>\n",
       "      <th>Coefficient_value</th>\n",
       "    </tr>\n",
       "  </thead>\n",
       "  <tbody>\n",
       "    <tr>\n",
       "      <th>0</th>\n",
       "      <td>Age</td>\n",
       "      <td>9.310556e-10</td>\n",
       "    </tr>\n",
       "    <tr>\n",
       "      <th>1</th>\n",
       "      <td>Income</td>\n",
       "      <td>-3.857872e-05</td>\n",
       "    </tr>\n",
       "    <tr>\n",
       "      <th>2</th>\n",
       "      <td>Emp_Length</td>\n",
       "      <td>-3.174947e-08</td>\n",
       "    </tr>\n",
       "    <tr>\n",
       "      <th>3</th>\n",
       "      <td>Loan_Amount</td>\n",
       "      <td>8.920671e-05</td>\n",
       "    </tr>\n",
       "    <tr>\n",
       "      <th>4</th>\n",
       "      <td>Home_Ownership_MORTGAGE</td>\n",
       "      <td>-1.062385e-08</td>\n",
       "    </tr>\n",
       "    <tr>\n",
       "      <th>5</th>\n",
       "      <td>Home_Ownership_OWN</td>\n",
       "      <td>-7.320627e-09</td>\n",
       "    </tr>\n",
       "    <tr>\n",
       "      <th>6</th>\n",
       "      <td>Home_Ownership_RENT</td>\n",
       "      <td>1.811587e-08</td>\n",
       "    </tr>\n",
       "    <tr>\n",
       "      <th>7</th>\n",
       "      <td>Purpose_DEBTCONSOLIDATION</td>\n",
       "      <td>5.530339e-09</td>\n",
       "    </tr>\n",
       "    <tr>\n",
       "      <th>8</th>\n",
       "      <td>Purpose_EDUCATION</td>\n",
       "      <td>-4.212015e-09</td>\n",
       "    </tr>\n",
       "    <tr>\n",
       "      <th>9</th>\n",
       "      <td>Purpose_HOMEIMPROVEMENT</td>\n",
       "      <td>3.426776e-09</td>\n",
       "    </tr>\n",
       "    <tr>\n",
       "      <th>10</th>\n",
       "      <td>Purpose_MEDICAL</td>\n",
       "      <td>3.022911e-09</td>\n",
       "    </tr>\n",
       "    <tr>\n",
       "      <th>11</th>\n",
       "      <td>Purpose_PERSONAL</td>\n",
       "      <td>-1.353531e-09</td>\n",
       "    </tr>\n",
       "    <tr>\n",
       "      <th>12</th>\n",
       "      <td>Purpose_VENTURE</td>\n",
       "      <td>-6.094445e-09</td>\n",
       "    </tr>\n",
       "  </tbody>\n",
       "</table>\n",
       "</div>"
      ],
      "text/plain": [
       "                   ColumnName  Coefficient_value\n",
       "0                         Age       9.310556e-10\n",
       "1                      Income      -3.857872e-05\n",
       "2                  Emp_Length      -3.174947e-08\n",
       "3                 Loan_Amount       8.920671e-05\n",
       "4     Home_Ownership_MORTGAGE      -1.062385e-08\n",
       "5          Home_Ownership_OWN      -7.320627e-09\n",
       "6         Home_Ownership_RENT       1.811587e-08\n",
       "7   Purpose_DEBTCONSOLIDATION       5.530339e-09\n",
       "8           Purpose_EDUCATION      -4.212015e-09\n",
       "9     Purpose_HOMEIMPROVEMENT       3.426776e-09\n",
       "10            Purpose_MEDICAL       3.022911e-09\n",
       "11           Purpose_PERSONAL      -1.353531e-09\n",
       "12            Purpose_VENTURE      -6.094445e-09"
      ]
     },
     "execution_count": 20,
     "metadata": {},
     "output_type": "execute_result"
    }
   ],
   "source": [
    "df_coef = pd.DataFrame(columns = ['ColumnName', 'Coefficient_value'])\n",
    "df_coef['ColumnName'] = X.columns\n",
    "df_coef['Coefficient_value'] = lr.coef_[0]\n",
    "df_coef"
   ]
  },
  {
   "cell_type": "code",
   "execution_count": null,
   "metadata": {},
   "outputs": [],
   "source": []
  },
  {
   "cell_type": "code",
   "execution_count": 21,
   "metadata": {},
   "outputs": [
    {
     "data": {
      "text/plain": [
       "array([3.20035034e-10])"
      ]
     },
     "execution_count": 21,
     "metadata": {},
     "output_type": "execute_result"
    }
   ],
   "source": [
    "lr.intercept_"
   ]
  },
  {
   "cell_type": "code",
   "execution_count": 22,
   "metadata": {},
   "outputs": [
    {
     "name": "stdout",
     "output_type": "stream",
     "text": [
      "[0 0 0 ... 0 0 0]\n"
     ]
    }
   ],
   "source": [
    "ypred=lr.predict(X_test)\n",
    "print(ypred)"
   ]
  },
  {
   "cell_type": "code",
   "execution_count": 23,
   "metadata": {},
   "outputs": [
    {
     "data": {
      "text/plain": [
       "array([0, 0, 0, 0, 0, 0, 0, 0, 0, 0, 0, 0, 0, 0, 0, 0, 0, 0, 0, 0, 0, 0,\n",
       "       0, 1, 0, 0, 0, 0, 0, 0, 0, 0, 0, 0, 0, 0, 0, 0, 0, 0, 0, 0, 0, 0,\n",
       "       0, 0, 0, 0, 0, 0, 0, 0, 0, 0, 0, 0, 0, 0, 0, 0, 0, 0, 0, 0, 0, 0,\n",
       "       0, 0, 0, 0, 0, 0, 0, 0, 0, 0, 0, 0, 0, 0, 0, 0, 0, 0, 0, 0, 0, 0,\n",
       "       0, 0, 0, 0, 0, 0, 0, 0, 0, 0, 0, 0, 0, 0, 0, 0, 0, 0, 0, 0, 0, 0,\n",
       "       0, 0, 0, 0, 0, 0, 0, 0, 0, 0, 0, 0, 0, 0, 0, 0, 0, 0, 0, 0, 0, 0,\n",
       "       0, 0, 1, 0, 0, 0, 0, 0, 0, 1, 0, 0, 0, 0, 0, 0, 0, 0, 0, 0, 0, 0,\n",
       "       0, 0, 0, 0, 0, 0, 0, 0, 0, 0, 0, 0, 0, 0, 0, 0, 0, 0, 0, 0, 0, 0,\n",
       "       0, 0, 0, 0, 0, 0, 0, 0, 0, 0, 0, 0, 0, 0, 0, 0, 0, 1, 0, 0, 0, 0,\n",
       "       0, 0], dtype=int64)"
      ]
     },
     "execution_count": 23,
     "metadata": {},
     "output_type": "execute_result"
    }
   ],
   "source": [
    "ypred[0:200]"
   ]
  },
  {
   "cell_type": "code",
   "execution_count": 24,
   "metadata": {},
   "outputs": [
    {
     "data": {
      "text/plain": [
       "0    25473\n",
       "1     7108\n",
       "Name: Default, dtype: int64"
      ]
     },
     "execution_count": 24,
     "metadata": {},
     "output_type": "execute_result"
    }
   ],
   "source": [
    "df.Default.value_counts()"
   ]
  },
  {
   "cell_type": "code",
   "execution_count": 25,
   "metadata": {},
   "outputs": [
    {
     "data": {
      "text/plain": [
       "Text(0.5, 15.0, 'predictions')"
      ]
     },
     "execution_count": 25,
     "metadata": {},
     "output_type": "execute_result"
    },
    {
     "data": {
      "image/png": "[encoded data removed]",
      "text/plain": [
       "<Figure size 432x288 with 2 Axes>"
      ]
     },
     "metadata": {
      "needs_background": "light"
     },
     "output_type": "display_data"
    }
   ],
   "source": [
    "from sklearn import metrics\n",
    "cm = metrics.confusion_matrix(y_test, ypred)\n",
    "\n",
    "\n",
    "group_names = ['True Neg','False Pos','False Neg','True Pos']\n",
    "group_counts = [\"{0:0.0f}\".format(value) for value in\n",
    "                cm.flatten()]\n",
    "group_percentages = [\"{0:.2%}\".format(value) for value in cm.flatten()/np.sum(cm)]\n",
    "labels = [f\"{v1}\\n{v2}\\n{v3}\" for v1, v2, v3 in zip(group_names,group_counts,group_percentages)]\n",
    "labels = np.asarray(labels).reshape(2,2)\n",
    "sns.heatmap(cm, annot=labels, fmt='', cmap='Blues')\n",
    "plt.ylabel(\"actual\")\n",
    "plt.xlabel(\"predictions\")"
   ]
  },
  {
   "cell_type": "code",
   "execution_count": 26,
   "metadata": {},
   "outputs": [
    {
     "data": {
      "text/plain": [
       "array([[7618,   50],\n",
       "       [1982,  125]], dtype=int64)"
      ]
     },
     "execution_count": 26,
     "metadata": {},
     "output_type": "execute_result"
    }
   ],
   "source": [
    "cm"
   ]
  },
  {
   "cell_type": "code",
   "execution_count": 27,
   "metadata": {},
   "outputs": [
    {
     "name": "stdout",
     "output_type": "stream",
     "text": [
      "0.7921227621483375\n"
     ]
    }
   ],
   "source": [
    "#find the accuracy score\n",
    "from sklearn.metrics import accuracy_score\n",
    "accuracy = accuracy_score(y_test, ypred)\n",
    "print(accuracy)"
   ]
  },
  {
   "cell_type": "code",
   "execution_count": 28,
   "metadata": {},
   "outputs": [
    {
     "data": {
      "text/plain": [
       "0    7668\n",
       "1    2107\n",
       "Name: Default, dtype: int64"
      ]
     },
     "execution_count": 28,
     "metadata": {},
     "output_type": "execute_result"
    }
   ],
   "source": [
    "y_test.value_counts()"
   ]
  },
  {
   "cell_type": "code",
   "execution_count": 29,
   "metadata": {},
   "outputs": [
    {
     "name": "stdout",
     "output_type": "stream",
     "text": [
      "the value of recall is:  0.05932605600379687\n",
      "the precision value is:  0.7142857142857143\n",
      "the f1 value is:  0.10955302366345311\n"
     ]
    }
   ],
   "source": [
    "from sklearn.metrics import recall_score\n",
    "recall = recall_score(y_test, ypred)\n",
    "print(\"the value of recall is: \",recall)\n",
    "\n",
    "from sklearn.metrics import precision_score\n",
    "precision = precision_score(y_test, ypred)\n",
    "print(\"the precision value is: \",precision)\n",
    "\n",
    "from sklearn.metrics import f1_score\n",
    "f1 = f1_score(y_test, ypred)\n",
    "print(\"the f1 value is: \",f1)"
   ]
  },
  {
   "cell_type": "code",
   "execution_count": 30,
   "metadata": {},
   "outputs": [
    {
     "data": {
      "image/png": "[encoded data removed]",
      "text/plain": [
       "<Figure size 432x288 with 1 Axes>"
      ]
     },
     "metadata": {
      "needs_background": "light"
     },
     "output_type": "display_data"
    }
   ],
   "source": [
    "from sklearn import metrics\n",
    "metrics.plot_roc_curve(lr, X_test, y_test)  \n",
    "plt.show()  "
   ]
  },
  {
   "cell_type": "code",
   "execution_count": null,
   "metadata": {},
   "outputs": [],
   "source": []
  },
  {
   "cell_type": "code",
   "execution_count": null,
   "metadata": {},
   "outputs": [],
   "source": []
  }
 ],
 "metadata": {
  "kernelspec": {
   "display_name": "Python 3 (ipykernel)",
   "language": "python",
   "name": "python3"
  },
  "language_info": {
   "codemirror_mode": {
    "name": "ipython",
    "version": 3
   },
   "file_extension": ".py",
   "mimetype": "text/x-python",
   "name": "python",
   "nbconvert_exporter": "python",
   "pygments_lexer": "ipython3",
   "version": "3.9.6"
  }
 },
 "nbformat": 4,
 "nbformat_minor": 2
}
